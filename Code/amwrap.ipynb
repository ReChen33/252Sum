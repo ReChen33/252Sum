{
 "cells": [
  {
   "cell_type": "markdown",
   "id": "9034aa70",
   "metadata": {},
   "source": [
    "# amwrap\n",
    "https://github.com/autocorr/amwrap\n",
    "\n",
    "Installation\n",
    "    pip install git+https://github.com/autocorr/amwrap.git\n",
    "\n"
   ]
  },
  {
   "cell_type": "markdown",
   "id": "42b6ce8f",
   "metadata": {},
   "source": [
    "# Getting started\n",
    "\n"
   ]
  },
  {
   "cell_type": "code",
   "execution_count": 7,
   "id": "066b2292",
   "metadata": {},
   "outputs": [
    {
     "name": "stdout",
     "output_type": "stream",
     "text": [
      "<class '__main__.Circle'>\n",
      "['__class__', '__delattr__', '__dict__', '__dir__', '__doc__', '__eq__', '__format__', '__ge__', '__getattribute__', '__getstate__', '__gt__', '__hash__', '__init__', '__init_subclass__', '__le__', '__lt__', '__module__', '__ne__', '__new__', '__reduce__', '__reduce_ex__', '__repr__', '__setattr__', '__sizeof__', '__str__', '__subclasshook__', '__weakref__', 'area', 'circumference', 'radius']\n"
     ]
    }
   ],
   "source": [
    "import math\n",
    "\n",
    "class Circle:\n",
    "    \"\"\"A simple circle class with radius, area, and circumference.\"\"\"\n",
    "    \n",
    "    def __init__(self, radius):\n",
    "        \"\"\"\n",
    "        Initialize a new Circle.\n",
    "        \n",
    "        Parameters\n",
    "        ----------\n",
    "        radius : float\n",
    "            The radius of the circle.\n",
    "        \"\"\"\n",
    "        self.radius = radius\n",
    "    \n",
    "    def area(self):\n",
    "        \"\"\"\n",
    "        Compute the area of the circle.\n",
    "        \n",
    "        Returns\n",
    "        -------\n",
    "        float\n",
    "            π * radius^2\n",
    "        \"\"\"\n",
    "        return math.pi * self.radius ** 2\n",
    "    \n",
    "    def circumference(self):\n",
    "        \"\"\"\n",
    "        Compute the circumference of the circle.\n",
    "        \n",
    "        Returns\n",
    "        -------\n",
    "        float\n",
    "            2 * π * radius\n",
    "        \"\"\"\n",
    "        return 2 * math.pi * self.radius\n",
    "    \n",
    "    def __str__(self):\n",
    "        \"\"\"Return a human-readable description.\"\"\"\n",
    "        return f\"Circle(radius={self.radius})\"\n",
    "\n",
    "# Example usage:\n",
    "c = Circle(3.0)\n",
    "print(c.__class__)                        # Circle(radius=3.0)\n",
    "\n",
    "# You can also introspect it:\n",
    "print(dir(c))  # List of attributes and methods of the Circle instance\n",
    "# [..., 'area', 'circumference', 'radius', ...]\n"
   ]
  },
  {
   "cell_type": "code",
   "execution_count": null,
   "id": "63a4a892",
   "metadata": {},
   "outputs": [],
   "source": []
  }
 ],
 "metadata": {
  "kernelspec": {
   "display_name": "base",
   "language": "python",
   "name": "python3"
  },
  "language_info": {
   "codemirror_mode": {
    "name": "ipython",
    "version": 3
   },
   "file_extension": ".py",
   "mimetype": "text/x-python",
   "name": "python",
   "nbconvert_exporter": "python",
   "pygments_lexer": "ipython3",
   "version": "3.12.4"
  }
 },
 "nbformat": 4,
 "nbformat_minor": 5
}
