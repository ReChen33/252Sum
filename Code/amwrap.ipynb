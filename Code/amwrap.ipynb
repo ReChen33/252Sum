{
 "cells": [
  {
   "cell_type": "markdown",
   "id": "9034aa70",
   "metadata": {},
   "source": [
    "# amwrap\n",
    "https://github.com/autocorr/amwrap\n",
    "\n",
    "Installation\n",
    "    pip install git+https://github.com/autocorr/amwrap.git\n",
    "\n"
   ]
  }
 ],
 "metadata": {
  "kernelspec": {
   "display_name": "base",
   "language": "python",
   "name": "python3"
  },
  "language_info": {
   "name": "python",
   "version": "3.12.4"
  }
 },
 "nbformat": 4,
 "nbformat_minor": 5
}
