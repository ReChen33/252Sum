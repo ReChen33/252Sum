{
 "cells": [
  {
   "cell_type": "code",
   "execution_count": null,
   "id": "c0a752de",
   "metadata": {},
   "outputs": [],
   "source": [
    "# get all pwv equal model \n"
   ]
  }
 ],
 "metadata": {
  "kernelspec": {
   "display_name": "base",
   "language": "python",
   "name": "python3"
  },
  "language_info": {
   "name": "python",
   "version": "3.12.4"
  }
 },
 "nbformat": 4,
 "nbformat_minor": 5
}
