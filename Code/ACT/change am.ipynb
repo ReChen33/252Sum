{
 "cells": [
  {
   "cell_type": "code",
   "execution_count": 9,
   "id": "9a5a8bc8",
   "metadata": {},
   "outputs": [
    {
     "name": "stdout",
     "output_type": "stream",
     "text": [
      "Tbase value adjusted and saved to ACT_DJF_5_T_R_10pwv_-20.0.amc\n",
      "Tbase value adjusted and saved to ACT_DJF_5_T_R_10pwv_-15.0.amc\n",
      "Tbase value adjusted and saved to ACT_DJF_5_T_R_10pwv_-10.0.amc\n",
      "Tbase value adjusted and saved to ACT_DJF_5_T_R_10pwv_-5.0.amc\n",
      "Tbase value adjusted and saved to ACT_DJF_5_T_R_10pwv_+0.0.amc\n",
      "Tbase value adjusted and saved to ACT_DJF_5_T_R_10pwv_+5.0.amc\n",
      "Tbase value adjusted and saved to ACT_DJF_5_T_R_10pwv_+10.0.amc\n",
      "Tbase value adjusted and saved to ACT_DJF_5_T_R_10pwv_+15.0.amc\n",
      "Tbase value adjusted and saved to ACT_DJF_5_T_R_10pwv_+20.0.amc\n"
     ]
    }
   ],
   "source": [
    "import numpy as np\n",
    "\n",
    "T_range = np.arange(-20.0, 21.0, 5.0)\n",
    "N_times = 10\n",
    "\n",
    "for T_change in T_range:\n",
    "    with open(\"ACT_DJF_5_T_R.amc\", \"r\", encoding=\"utf-8\") as f:\n",
    "        lines = [line.rstrip(\"\\n\") for line in f]\n",
    "\n",
    "\n",
    "    #print(f\"Processing T_change: {T_change} K\")\n",
    "    for i, line in enumerate(lines):\n",
    "        #change Nscale troposphere h2o scale N_times\n",
    "        if line.startswith(\"Nscale troposphere h2o\"):\n",
    "            #print(f\"Found Nscale at line {i+1}: {line}\")\n",
    "            Nscale = line.split()[3]\n",
    "            #print(f\"Nscale value: {Nscale}\")\n",
    "            Nscale_change = float(Nscale) * N_times\n",
    "            #print(f\"Adjusted Nscale value: {Nscale_change:.3f}\")\n",
    "            lines[i] = f\"Nscale troposphere h2o {Nscale_change:.3f}\"\n",
    "            #print(f\"Updated line: {lines[i]}\")\n",
    "            #break\n",
    "\n",
    "        if line.startswith(\"Tbase\"):\n",
    "            #print(f\"Found Tbase at line {i+1}: {line}\")\n",
    "            Tbase = line.split()[1]\n",
    "            #print(f\"Tbase value: {Tbase} K\")\n",
    "            Tbase_change = float(Tbase) + T_change\n",
    "            #print(f\"Adjusted Tbase value: {Tbase_change:.1f} K\")\n",
    "            lines[i] = f\"Tbase {Tbase_change:.1f} K\"\n",
    "            #print(f\"Updated line: {lines[i]}\")\n",
    "            \n",
    "\n",
    "    output_filename = f\"ACT_DJF_5_T_R_{N_times}pwv_{T_change:+.1f}.amc\"\n",
    "    with open(output_filename, \"w\", encoding=\"utf-8\") as f:\n",
    "        for line in lines:\n",
    "            #print(\"going to write\")\n",
    "            f.write(line + \"\\n\")\n",
    "\n",
    "    print(f\"Tbase value adjusted and saved to {output_filename}\")\n"
   ]
  },
  {
   "cell_type": "code",
   "execution_count": null,
   "id": "598846d1",
   "metadata": {},
   "outputs": [],
   "source": []
  }
 ],
 "metadata": {
  "kernelspec": {
   "display_name": "base",
   "language": "python",
   "name": "python3"
  },
  "language_info": {
   "codemirror_mode": {
    "name": "ipython",
    "version": 3
   },
   "file_extension": ".py",
   "mimetype": "text/x-python",
   "name": "python",
   "nbconvert_exporter": "python",
   "pygments_lexer": "ipython3",
   "version": "3.12.4"
  }
 },
 "nbformat": 4,
 "nbformat_minor": 5
}
